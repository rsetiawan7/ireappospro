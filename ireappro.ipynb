{
 "cells": [
  {
   "cell_type": "code",
   "execution_count": 31,
   "metadata": {},
   "outputs": [],
   "source": [
    "from selenium import webdriver\n",
    "from bs4 import BeautifulSoup\n",
    "from pdb import set_trace as bp ##for testing\n",
    "import re\n",
    "import time\n",
    "import csv"
   ]
  },
  {
   "cell_type": "code",
   "execution_count": 32,
   "metadata": {},
   "outputs": [],
   "source": [
    "outputFileName='result'\n",
    "link = \"https://play.google.com/store/apps/details?id=com.sterling.ireappro&showAllReviews=true\"\n",
    "driver = webdriver.Chrome('chromedriver.exe')\n",
    "driver.get(link)"
   ]
  },
  {
   "cell_type": "code",
   "execution_count": 33,
   "metadata": {},
   "outputs": [
    {
     "name": "stdout",
     "output_type": "stream",
     "text": [
      "iREAP PRO: Cashier / POS Online & Offline - Apps on Google Play\n"
     ]
    }
   ],
   "source": [
    "title = driver.find_element_by_xpath('/html/head/meta[9]').get_attribute('content')\n",
    "\n",
    "print(title)"
   ]
  },
  {
   "cell_type": "code",
   "execution_count": 57,
   "metadata": {},
   "outputs": [],
   "source": [
    "flag=0\n",
    "while 1:\n",
    "    driver.execute_script('window.scrollTo(0, document.body.scrollHeight);')\n",
    "    try:\n",
    "        loadMore=driver.find_element_by_xpath(\"//*[contains(@class,'U26fgb O0WRkf oG5Srb C0oVfc n9lfJ')]\").click()\n",
    "    except:\n",
    "        time.sleep(1)\n",
    "        flag=flag+1\n",
    "        if flag >= 10:\n",
    "            break\n",
    "    else:\n",
    "        flag=0\n",
    "reviews=driver.find_elements_by_xpath(\"//*[@jsname='fk8dgd']//div[@class='d15Mdf bAhLNe']\")"
   ]
  },
  {
   "cell_type": "code",
   "execution_count": 67,
   "metadata": {},
   "outputs": [
    {
     "data": {
      "text/plain": [
       "'Nwokoro Peter\\nFebruary 24, 2020\\n\\ue8dc\\n2\\n\\ue5d4\\nvery useful, second to none, but improve on expenses feature.\\nSterling Tulus Cemerlang, PT (Sterling Team)August 2, 2019\\nhi Peter, thank you for using IREAP POS and the rating, store expenses, is on the development list, target release end of year. should you have any idea or questions, please do not hesitate to send us to support@ireappos.com, best regards, IREAPPOS'"
      ]
     },
     "execution_count": 67,
     "metadata": {},
     "output_type": "execute_result"
    }
   ],
   "source": [
    "reviews[0].text"
   ]
  },
  {
   "cell_type": "code",
   "execution_count": 68,
   "metadata": {},
   "outputs": [
    {
     "name": "stdout",
     "output_type": "stream",
     "text": [
      "data reviews terunduh 136 buah\n"
     ]
    }
   ],
   "source": [
    "print('data reviews terunduh '+str(len(reviews))+' buah')"
   ]
  },
  {
   "cell_type": "code",
   "execution_count": null,
   "metadata": {},
   "outputs": [],
   "source": []
  }
 ],
 "metadata": {
  "kernelspec": {
   "display_name": "Python 3",
   "language": "python",
   "name": "python3"
  },
  "language_info": {
   "codemirror_mode": {
    "name": "ipython",
    "version": 3
   },
   "file_extension": ".py",
   "mimetype": "text/x-python",
   "name": "python",
   "nbconvert_exporter": "python",
   "pygments_lexer": "ipython3",
   "version": "3.7.4"
  }
 },
 "nbformat": 4,
 "nbformat_minor": 2
}
